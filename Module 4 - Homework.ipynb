{
 "cells": [
  {
   "cell_type": "markdown",
   "metadata": {},
   "source": [
    "### Exercise 1: \n",
    "\n",
    "Review the code in the following cell. This programmer was attempting to create a list of numbers and a list of even numbers between two values given by a user. The numbers list should include all numbers, and the evens list should include only even numbers. Use what you learned in Module 4 to fix the code and run it successfully!"
   ]
  },
  {
   "cell_type": "code",
   "execution_count": 9,
   "metadata": {},
   "outputs": [
    {
     "name": "stdout",
     "output_type": "stream",
     "text": [
      "Enter a starting number: 6\n",
      "Enter an ending number: 80\n",
      "[6, 7, 8, 9, 10, 11, 12, 13, 14, 15, 16, 17, 18, 19, 20, 21, 22, 23, 24, 25, 26, 27, 28, 29, 30, 31, 32, 33, 34, 35, 36, 37, 38, 39, 40, 41, 42, 43, 44, 45, 46, 47, 48, 49, 50, 51, 52, 53, 54, 55, 56, 57, 58, 59, 60, 61, 62, 63, 64, 65, 66, 67, 68, 69, 70, 71, 72, 73, 74, 75, 76, 77, 78, 79]\n",
      "[6, 8, 10, 12, 14, 16, 18, 20, 22, 24, 26, 28, 30, 32, 34, 36, 38, 40, 42, 44, 46, 48, 50, 52, 54, 56, 58, 60, 62, 64, 66, 68, 70, 72, 74, 76, 78]\n"
     ]
    }
   ],
   "source": [
    "no1 = int(input(\"Enter a starting number: \"))\n",
    "no2 = int(input(\"Enter an ending number: \"))\n",
    "\n",
    "numbers = []\n",
    "evens = []\n",
    "\n",
    "for i in range(no1, no2):\n",
    "    numbers.append(i) \n",
    "    if i%2 == 0:     # even number\n",
    "        evens.append(i)\n",
    "    \n",
    "print(numbers)    \n",
    "print(evens)"
   ]
  },
  {
   "cell_type": "markdown",
   "metadata": {},
   "source": [
    "### Exercise 2:\n",
    "\n",
    "Define a function called <b>draw_triangle()</b> to draw a right triangle where the base of the triangle is the number given by a user and the rest of the triangle builds to the base value. Use the function to show that it works. \n",
    "\n",
    "e.g. <b>draw_triangle(7)</b> draws as below:\n",
    "\n",
    "    *\n",
    "    **\n",
    "    ***\n",
    "    ****\n",
    "    *****\n",
    "    ******\n",
    "    *******\n"
   ]
  },
  {
   "cell_type": "code",
   "execution_count": 14,
   "metadata": {},
   "outputs": [
    {
     "name": "stdout",
     "output_type": "stream",
     "text": [
      "enter a number:8\n",
      "\n",
      "*\n",
      "**\n",
      "***\n",
      "****\n",
      "*****\n",
      "******\n",
      "*******\n"
     ]
    }
   ],
   "source": [
    "### finish the code below ###\n",
    "\n",
    "def draw_triangle(base):\n",
    "    for x in range(base):\n",
    "        print(x * '*')\n",
    "        \n",
    "base = int(input(\"enter a number:\"))\n",
    "\n",
    "draw_triangle(base)"
   ]
  },
  {
   "cell_type": "code",
   "execution_count": 15,
   "metadata": {},
   "outputs": [
    {
     "name": "stdout",
     "output_type": "stream",
     "text": [
      "Enter a number: 8\n",
      "\n",
      "*\n",
      "**\n",
      "***\n",
      "****\n",
      "*****\n",
      "******\n",
      "*******\n"
     ]
    }
   ],
   "source": [
    "base = int(input(\"Enter a number: \"))\n",
    "\n",
    "draw_triangle(base)"
   ]
  },
  {
   "cell_type": "markdown",
   "metadata": {},
   "source": [
    "### Exercise 3:\n",
    "\n",
    "A furniture store organizes all items by the section of the store they are stored in. Each section has a number cooresponding to that section. A new branch of the furniture store is opening up, and it's up to you to quickly organize the merchandise into different sections. Create a list of numbers ranging from 1 - 5. Create a list of any three furniture items (i.e. table, lamp, etc). \n",
    "\n",
    "Using a for-loop, return a list of furniture items. Next to each furniture item should be the number of the section of the store the furniture item should be stored (i.e. 3 table, 3 lamp, 3 chair)."
   ]
  },
  {
   "cell_type": "code",
   "execution_count": 4,
   "metadata": {},
   "outputs": [
    {
     "name": "stdout",
     "output_type": "stream",
     "text": [
      "Furniture in 1 should be stored in table section.\n",
      "Furniture in 1 should be stored in board section.\n",
      "Furniture in 1 should be stored in glass section.\n",
      "Furniture in 2 should be stored in table section.\n",
      "Furniture in 2 should be stored in board section.\n",
      "Furniture in 2 should be stored in glass section.\n",
      "Furniture in 3 should be stored in table section.\n",
      "Furniture in 3 should be stored in board section.\n",
      "Furniture in 3 should be stored in glass section.\n",
      "Furniture in 4 should be stored in table section.\n",
      "Furniture in 4 should be stored in board section.\n",
      "Furniture in 4 should be stored in glass section.\n",
      "Furniture in 5 should be stored in table section.\n",
      "Furniture in 5 should be stored in board section.\n",
      "Furniture in 5 should be stored in glass section.\n"
     ]
    }
   ],
   "source": [
    "num = [1,2,3,4,5]\n",
    "furniture = ['table', 'board', 'glass']\n",
    "\n",
    "for x in num:\n",
    "    for y in furniture:\n",
    "        print(f\"Furniture in {x} should be stored in {y} section.\")"
   ]
  },
  {
   "cell_type": "code",
   "execution_count": null,
   "metadata": {},
   "outputs": [],
   "source": []
  },
  {
   "cell_type": "markdown",
   "metadata": {},
   "source": [
    "### Exercise 4:\n",
    "\n",
    "What is the highest value \"a\" can be for the following code to return a value of \"3\"?"
   ]
  },
  {
   "cell_type": "code",
   "execution_count": 10,
   "metadata": {},
   "outputs": [
    {
     "name": "stdout",
     "output_type": "stream",
     "text": [
      "3\n"
     ]
    }
   ],
   "source": [
    "x = 0\n",
    "a = 5\n",
    "b = 5\n",
    "\n",
    "###\n",
    "\n",
    "if a > 0:\n",
    "    if b < 0:\n",
    "        x = x + 5\n",
    "    elif a > 5:\n",
    "        x = x + 4\n",
    "    else:\n",
    "        x = x + 3\n",
    "else: \n",
    "    x = x + 2\n",
    "print(x)"
   ]
  },
  {
   "cell_type": "code",
   "execution_count": null,
   "metadata": {},
   "outputs": [],
   "source": []
  }
 ],
 "metadata": {
  "kernelspec": {
   "display_name": "Python 3 (ipykernel)",
   "language": "python",
   "name": "python3"
  },
  "language_info": {
   "codemirror_mode": {
    "name": "ipython",
    "version": 3
   },
   "file_extension": ".py",
   "mimetype": "text/x-python",
   "name": "python",
   "nbconvert_exporter": "python",
   "pygments_lexer": "ipython3",
   "version": "3.9.13"
  }
 },
 "nbformat": 4,
 "nbformat_minor": 4
}
